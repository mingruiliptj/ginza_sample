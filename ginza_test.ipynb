{
 "cells": [
  {
   "cell_type": "code",
   "execution_count": 4,
   "id": "128da8bf",
   "metadata": {},
   "outputs": [],
   "source": [
    "import spacy\n",
    "nlp = spacy.load('ja_ginza')\n",
    "\n",
    "def get_answser(input_text,answers):\n",
    "    print(\"------------input\",input_text,\"-----------------------\")\n",
    "    input_nlp=nlp(input_text)\n",
    "\n",
    "    similarity=0\n",
    "    match_result=\"\"\n",
    "    for answer in answers:\n",
    "        sub_answers=answer.split(\",\")\n",
    "        for sub_answer in sub_answers:\n",
    "            ap=nlp(sub_answer)\n",
    "            ap_similarity=ap.similarity(input_nlp)\n",
    "            print(ap_similarity,sub_answer)\n",
    "            if ap_similarity > similarity:\n",
    "                similarity=ap_similarity\n",
    "                match_result=sub_answers[0]\n",
    "\n",
    "    print(match_result)\n",
    "    "
   ]
  },
  {
   "cell_type": "code",
   "execution_count": 5,
   "id": "d188a912",
   "metadata": {},
   "outputs": [
    {
     "name": "stdout",
     "output_type": "stream",
     "text": [
      "------------input 勝手にしろ -----------------------\n",
      "0.3354440942225702 理解できます\n",
      "0.34521396059680415 理解できました\n",
      "0.4189135364102383 理解した\n",
      "0.3795139324231917 理解できません\n",
      "0.4328236037387271 理解していない\n",
      "0.4177009774499482 理解しない\n",
      "理解できません\n",
      "------------input 全然理解していない -----------------------\n",
      "0.8364272180688899 理解できます\n",
      "0.8505913511236027 理解できました\n",
      "0.9479749340188501 理解した\n",
      "0.6884693059431586 理解できません\n",
      "0.9831346007117702 理解していない\n",
      "0.9452983039785915 理解しない\n",
      "理解できません\n",
      "------------input よく理解しない -----------------------\n",
      "0.8877974741259449 理解できます\n",
      "0.8976455373954539 理解できました\n",
      "0.965941332493022 理解した\n",
      "0.7204118135320756 理解できません\n",
      "0.9423051266951916 理解していない\n",
      "0.999999911964469 理解しない\n",
      "理解できません\n",
      "------------input よく理解した -----------------------\n",
      "0.9118979316116764 理解できます\n",
      "0.9458546333515652 理解できました\n",
      "0.9999999271029473 理解した\n",
      "0.7372413616337313 理解できません\n",
      "0.9561537441159326 理解していない\n",
      "0.9659413346484077 理解しない\n",
      "理解できます\n"
     ]
    }
   ],
   "source": [
    "answers=[\"理解できます,理解できました,理解した\",\"理解できません,理解していない,理解しない\"]\n",
    "\n",
    "\n",
    "get_answser(\"勝手にしろ\",answers)\n",
    "get_answser(\"全然理解していない\",answers)\n",
    "get_answser(\"よく理解しない\",answers)\n",
    "get_answser(\"よく理解した\",answers)"
   ]
  }
 ],
 "metadata": {
  "kernelspec": {
   "display_name": "Python 3 (ipykernel)",
   "language": "python",
   "name": "python3"
  },
  "language_info": {
   "codemirror_mode": {
    "name": "ipython",
    "version": 3
   },
   "file_extension": ".py",
   "mimetype": "text/x-python",
   "name": "python",
   "nbconvert_exporter": "python",
   "pygments_lexer": "ipython3",
   "version": "3.8.12"
  }
 },
 "nbformat": 4,
 "nbformat_minor": 5
}
